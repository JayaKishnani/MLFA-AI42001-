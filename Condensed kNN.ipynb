{
 "cells": [
  {
   "cell_type": "markdown",
   "id": "1b48ab8d",
   "metadata": {},
   "source": [
    "# Assignment 1\n",
    "Done by:\n",
    "- Saumili Jana: 20ME10075\n",
    "- Ushasi Das: 20EC10086\n",
    "- Jaya Kishnani: 20EC30020\n",
    "- Karthikeyan.R: 20EC30024"
   ]
  },
  {
   "cell_type": "code",
   "execution_count": 1,
   "id": "272f11d0",
   "metadata": {},
   "outputs": [],
   "source": [
    "#importing modules\n",
    "import math\n",
    "import pandas as pd\n",
    "import numpy as np\n",
    "import matplotlib.pyplot as plt"
   ]
  },
  {
   "cell_type": "markdown",
   "id": "42dcc886",
   "metadata": {},
   "source": [
    "We import the data as panda's dataframes, split them into training and test dataset, and convert them into numpy array. As mentioned in the problem statement, the last 15 samples in the dataset have been put in the test set."
   ]
  },
  {
   "cell_type": "code",
   "execution_count": 2,
   "id": "b1835145",
   "metadata": {
    "scrolled": true
   },
   "outputs": [
    {
     "name": "stdout",
     "output_type": "stream",
     "text": [
      "    behavior_sexualRisk  behavior_eating  behavior_personalHygine  \\\n",
      "0                    10               13                       12   \n",
      "1                    10               11                       11   \n",
      "2                    10               15                        3   \n",
      "3                    10               11                       10   \n",
      "4                     8               11                        7   \n",
      "..                  ...              ...                      ...   \n",
      "67                   10               14                       14   \n",
      "68                   10               12                       15   \n",
      "69                   10                8                       11   \n",
      "70                    9               12                       13   \n",
      "71                   10               14                       14   \n",
      "\n",
      "    intention_aggregation  intention_commitment  attitude_consistency  \\\n",
      "0                       4                     7                     9   \n",
      "1                      10                    14                     7   \n",
      "2                       2                    14                     8   \n",
      "3                      10                    15                     7   \n",
      "4                       8                    10                     7   \n",
      "..                    ...                   ...                   ...   \n",
      "67                     10                    15                     6   \n",
      "68                     10                    15                     8   \n",
      "69                      6                    10                     6   \n",
      "70                     10                    13                     6   \n",
      "71                      6                    12                     7   \n",
      "\n",
      "    attitude_spontaneity  norm_significantPerson  norm_fulfillment  \\\n",
      "0                     10                       1                 8   \n",
      "1                      7                       5                 5   \n",
      "2                     10                       1                 4   \n",
      "3                      7                       1                 5   \n",
      "4                      8                       1                 5   \n",
      "..                   ...                     ...               ...   \n",
      "67                     7                       5                15   \n",
      "68                     8                       5                15   \n",
      "69                     4                       3                13   \n",
      "70                     6                       5                14   \n",
      "71                     8                       5                15   \n",
      "\n",
      "    perception_vulnerability  perception_severity  motivation_strength  \\\n",
      "0                          7                    3                   14   \n",
      "1                          4                    2                   15   \n",
      "2                          7                    2                    7   \n",
      "3                          4                    2                   15   \n",
      "4                          3                    2                   15   \n",
      "..                       ...                  ...                  ...   \n",
      "67                        14                   10                   15   \n",
      "68                        14                    8                   12   \n",
      "69                         9                    8                   14   \n",
      "70                        13                   10                   13   \n",
      "71                        12                   10                   10   \n",
      "\n",
      "    motivation_willingness  socialSupport_emotionality  \\\n",
      "0                        8                           5   \n",
      "1                       13                           7   \n",
      "2                        3                           3   \n",
      "3                       13                           7   \n",
      "4                        5                           3   \n",
      "..                     ...                         ...   \n",
      "67                      13                           9   \n",
      "68                      14                          11   \n",
      "69                      12                           9   \n",
      "70                      12                          11   \n",
      "71                      13                          11   \n",
      "\n",
      "    socialSupport_appreciation  socialSupport_instrumental  \\\n",
      "0                            7                          12   \n",
      "1                            6                           5   \n",
      "2                            6                          11   \n",
      "3                            4                           4   \n",
      "4                            6                          12   \n",
      "..                         ...                         ...   \n",
      "67                           8                          12   \n",
      "68                           7                          13   \n",
      "69                           7                          11   \n",
      "70                           8                          12   \n",
      "71                           9                          14   \n",
      "\n",
      "    empowerment_knowledge  empowerment_abilities  empowerment_desires  \\\n",
      "0                      12                     11                    8   \n",
      "1                       5                      4                    4   \n",
      "2                       3                      3                   15   \n",
      "3                       4                      4                    4   \n",
      "4                       5                      4                    7   \n",
      "..                    ...                    ...                  ...   \n",
      "67                     12                     11                    9   \n",
      "68                     15                     11                   14   \n",
      "69                     12                     10                   10   \n",
      "70                     11                     13                   15   \n",
      "71                     13                     15                   15   \n",
      "\n",
      "    ca_cervix  \n",
      "0           1  \n",
      "1           1  \n",
      "2           1  \n",
      "3           1  \n",
      "4           1  \n",
      "..        ...  \n",
      "67          0  \n",
      "68          0  \n",
      "69          0  \n",
      "70          0  \n",
      "71          0  \n",
      "\n",
      "[72 rows x 20 columns]\n"
     ]
    }
   ],
   "source": [
    "#importing the dataset\n",
    "all_data = pd.read_csv('sobar-72.csv')\n",
    "print(all_data)"
   ]
  },
  {
   "cell_type": "code",
   "execution_count": 3,
   "id": "3aca1c20",
   "metadata": {},
   "outputs": [],
   "source": [
    "#splitting the dataset into training and test datasets\n",
    "train_data = all_data.head(57) #training set\n",
    "test_data = all_data.tail(15)  #test set\n",
    "#print(train_data)\n",
    "#print(test_data)"
   ]
  },
  {
   "cell_type": "code",
   "execution_count": 4,
   "id": "52113d1e",
   "metadata": {
    "scrolled": true
   },
   "outputs": [
    {
     "name": "stdout",
     "output_type": "stream",
     "text": [
      "[[10 11  8 10 15  7  8  5 14 13  8 12  7  4  3  3  4  4  7  0]\n",
      " [10 11  9  6 15  6  8  5 14 11  8 11  7  3  2  3  3  3  3  0]\n",
      " [10 13  9 10 15  8  8  5 14  8  8 11  3  3  2  3  3  3  3  0]\n",
      " [10 12 10 10 15  6  8  5 15 11  8 13  7  3  2  3  3  3  3  0]\n",
      " [10 10 10 10 15  6  6  5 14 13  9 15  9 13  8 14 13 12 12  0]\n",
      " [10 13 11  6 15  8 10  5 15  7 10 13  7  3  5  3  3  3  3  0]\n",
      " [10 13 15 10 15  8 10  5 14  6  8 13  7  3  4  3  3  6  3  0]\n",
      " [10 15  8  6 11  6 10  5 11 15  8 15  7  3  4 11 13 10 15  0]\n",
      " [10 13 11  6 14  9 10  5 15 15 10 15  3  3  4  7  7  7 11  0]\n",
      " [10 12 13 10 11  7  7  5 14 15  9 14 10  6  6  6  9  7 11  0]\n",
      " [10 14 14 10 15  6  7  5 15 14 10 15 13  9  8 12 12 11  9  0]\n",
      " [10 12 15 10 15  8  8  5 15 14  8 12 14 11  7 13 15 11 14  0]\n",
      " [10  8 11  6 10  6  4  3 13  9  8 14 12  9  7 11 12 10 10  0]\n",
      " [ 9 12 13 10 13  6  6  5 14 13 10 13 12 11  8 12 11 13 15  0]\n",
      " [10 14 14  6 12  7  8  5 15 12 10 10 13 11  9 14 13 15 15  0]]\n"
     ]
    }
   ],
   "source": [
    "#converting to numpy arrays for ease of computation\n",
    "all_arr = all_data.to_numpy()\n",
    "train_arr = train_data.to_numpy()  #training set converted to numpy array\n",
    "#print(train_arr)\n",
    "test_arr = test_data.to_numpy() #test set converted to numpy array\n",
    "print(test_arr)"
   ]
  },
  {
   "cell_type": "markdown",
   "id": "2c56ff2a",
   "metadata": {},
   "source": [
    "We use the minkowski distance with power(and root) as 4 for calculating the distances between the samples"
   ]
  },
  {
   "cell_type": "code",
   "execution_count": 5,
   "id": "20ab4c06",
   "metadata": {},
   "outputs": [],
   "source": [
    "#Function for calculating distances\n",
    "\n",
    "#minkowski distance\n",
    "def minkowski(point1, point2):\n",
    "    p = 4\n",
    "    point1 = point1[:-1]\n",
    "    point2 = point2[:-1]\n",
    "    a = np.subtract(point1,point2) \n",
    "    a = np.absolute(a)\n",
    "    a = np.power(a, p)\n",
    "    s = np.sum(a)\n",
    "    dist = s**(1/p)\n",
    "    return(dist)\n",
    "    \n",
    "#check = minkowski([2,3,4],[1,1,1])//For checking the working of the function\n",
    "#check\n",
    "\n"
   ]
  },
  {
   "cell_type": "markdown",
   "id": "4506d822",
   "metadata": {},
   "source": [
    "## Condensed KNN\n",
    "\n",
    "We first define a function which figure out the nearest neighbour for a sample. And then we use this function to condense the dataset as per the condensed nearest neighbour algorithm."
   ]
  },
  {
   "cell_type": "code",
   "execution_count": 6,
   "id": "878e0ceb",
   "metadata": {},
   "outputs": [],
   "source": [
    "#Function for finding out the nearest neighbour(1-NN), will be used for condensing\n",
    "\n",
    "def nrst_nbr(frame,point):\n",
    "    min = None\n",
    "    for row in frame:\n",
    "        d = minkowski(row,point)\n",
    "        if min is None:\n",
    "            min = d\n",
    "            x = row\n",
    "        elif d<min:\n",
    "            min = d\n",
    "            x = row\n",
    "    return(x)\n",
    "        \n",
    "#test the function\n",
    "#a = np.array([[1,1,1],[0.5,0.5,0.5], [0.1,0.1,0.1],[2,2,2]])\n",
    "#p = np.array([0,0,0])\n",
    "#z = nrst_nbr(a,p)\n",
    "#z\n",
    "\n",
    "#Test successful!!\n",
    "    "
   ]
  },
  {
   "cell_type": "code",
   "execution_count": 7,
   "id": "18b22f78",
   "metadata": {},
   "outputs": [
    {
     "data": {
      "text/plain": [
       "20"
      ]
     },
     "execution_count": 7,
     "metadata": {},
     "output_type": "execute_result"
    }
   ],
   "source": [
    "(r,c)=train_arr.shape\n",
    "c"
   ]
  },
  {
   "cell_type": "code",
   "execution_count": 8,
   "id": "c21c0147",
   "metadata": {},
   "outputs": [
    {
     "name": "stdout",
     "output_type": "stream",
     "text": [
      "final condensed set [[10 13 12  4  7  9 10  1  8  7  3 14  8  5  7 12 12 11  8  1]\n",
      " [10 12 11 10 15  7  8  3  3  3  2 13 11 10  7 12 12 12 12  0]\n",
      " [10 11 10 10 15  7  7  1  5  4  2 15 13  7  4  4  4  4  4  1]\n",
      " [10 14  8  6 15  8 10  1  3  4  2 14  8  7  2  7 13  9  6  1]\n",
      " [ 8 12  9 10 10  5 10  5  5  5  2 10  9 13  2  9  8  7 12  1]\n",
      " [10 15  7  2 15  6 10  1  3  5  2  9 15 13 10 15 13 15 15  1]\n",
      " [10 15 12 10 15  6 10  1  3  3  2  4  3  3  2 15 13  6 11  1]\n",
      " [ 9 12 14  9 15 10  9  3  6  3  2 15 15  3 10 15 11  3 11  1]\n",
      " [10  3  5  2  9  6 10  1  3  9  6 11 10  9  9 14  6 10 10  0]\n",
      " [10 15  9  3 15  8 10  1  3  5  6 10 15 13 10 15 15 15 15  0]\n",
      " [10 10 12  5  7  6  6  4  5 10  4 11  9 11  8 11 11 10 11  0]\n",
      " [10 15  7  6 14  8  8  4  8 10  2  3  3  3  2  5  5  5  3  1]\n",
      " [10 12 12  8 10  8  6  2  7  6  2 12 11  9  8 12 10 10  9  1]\n",
      " [10 13 15  8 13  7  8  3  5  9  2 13 11 12  9 10 12 13 12  0]\n",
      " [10 14 10  9 15  4  5  2  5  7  3 10  7  4  6  7  5  9 12  0]\n",
      " [10 15  3  2 14  8 10  1  4  7  2  7  3  3  6 11  3  3 15  1]\n",
      " [ 8 11  7  8 10  7  8  1  5  3  2 15  5  3  6 12  5  4  7  1]\n",
      " [10 15 13 10 15  6 10  1  7  7  2 15  7  3  4  3 11  5  9  0]\n",
      " [10 15 15  4 15  8 10  5  3  8  3 11  3  3  2  7  8  5  3  1]\n",
      " [10 14 11 10 15  9 10  5 15 15 10 15 13  6  6 12 15 11 14  0]\n",
      " [10 13 12  2 15  7 10  5 15 10  2 15 12 11  7  6 10  9 12  0]]\n"
     ]
    }
   ],
   "source": [
    "#Condensing the training dataset# condensed knn algorithm\n",
    "\n",
    "train_arr1 = train_arr #making a copy, so that original dataset doesn't change during operation\n",
    "\n",
    "S = np.array(train_arr[0] ,ndmin=2) # initialised set S with he first element\n",
    "index = 0\n",
    "flag = 0\n",
    "while True:\n",
    "    for row in train_arr1:\n",
    "        #print(row)\n",
    "        a = nrst_nbr(S,row) #a contains the the row in S which is closest to the point in the training data being tested\n",
    "        if a[19]!=row[19]:  #misclassified\n",
    "            flag = 1\n",
    "            S = np.vstack((S,row)) #Add to set S if misclassified\n",
    "            np.delete(train_arr1,index,axis=0) #delete that point from the dataset\n",
    "            break\n",
    "        (r,c) = train_arr1.shape\n",
    "        index = index+1\n",
    "        if (index==r):\n",
    "            break\n",
    "    if (flag==0): #Stops the iteration, when S does not change\n",
    "        break\n",
    "    flag = 0\n",
    "    index = 0   \n",
    "print('final condensed set', S)\n",
    "#print(S.shape)    "
   ]
  },
  {
   "cell_type": "markdown",
   "id": "a54af90d",
   "metadata": {},
   "source": [
    "We have obtained the condensed set S. Now we will use this condensed set S for classifying the test samples according to the K-NN classification for k = 5 "
   ]
  },
  {
   "cell_type": "code",
   "execution_count": 9,
   "id": "178b1336",
   "metadata": {},
   "outputs": [],
   "source": [
    "#clasifier function-will be used for the final condensed K-NN(k=5) classification\n",
    "def classify(five_nn): #input is the output labels of 5 neighbours\n",
    "    track = 0\n",
    "    for k in five_nn: #tracks the numbe of zeroes and 1s\n",
    "        if (k == 1):\n",
    "            track += 1\n",
    "    if (track>2.5):\n",
    "        return 1\n",
    "    else:\n",
    "        return 0 #returns the output of test sample"
   ]
  },
  {
   "cell_type": "code",
   "execution_count": 10,
   "id": "2cd3127f",
   "metadata": {},
   "outputs": [
    {
     "name": "stdout",
     "output_type": "stream",
     "text": [
      "[0, 0, 1, 0, 0, 0, 1, 0, 0, 0, 0, 0, 0, 0, 0]\n"
     ]
    }
   ],
   "source": [
    "#5-NN classification on the condensed data set\n",
    "\n",
    "y_pred = [] #array of final predicted labels\n",
    "\n",
    "for i in test_arr:\n",
    "    store = np.empty((0,20), float)\n",
    "    distances = []\n",
    "    for j in S:\n",
    "        dis = minkowski(i,j) #calculates the distance\n",
    "        distances.append(dis)\n",
    "    dist_arr = np.array(distances)\n",
    "    dist_arr_1 = np.array(distances)\n",
    "    dist_arr.sort()\n",
    "    #print(dist_arr)\n",
    "    #print(dist_arr_1)\n",
    "    #(index,) = np.where(dist_arr_1 == dist_arr[count])\n",
    "    #print(index[0])\n",
    "    count = 0\n",
    "    while (count<5):\n",
    "        \n",
    "        (index,) = np.where(dist_arr_1 == dist_arr[count])\n",
    "        store = np.vstack((store,S[index[0]])) #stores the features and labels of 5 nearest neighbours\n",
    "        count = count + 1\n",
    "    #print(store[:,19])\n",
    "    label = classify(store[:,19]) #predicted output label of the test sample\n",
    "    #print(label)\n",
    "    y_pred.append(label)\n",
    "    \n",
    "print(y_pred)\n",
    "      "
   ]
  },
  {
   "cell_type": "markdown",
   "id": "3cb5fd07",
   "metadata": {},
   "source": [
    "#### Calculating the accuracy of our prediction for the condensed KNN"
   ]
  },
  {
   "cell_type": "code",
   "execution_count": 11,
   "id": "2dbdb302",
   "metadata": {},
   "outputs": [],
   "source": [
    "#Accuracy function\n",
    "def accuracy(pred , y_test):\n",
    "    count = 0\n",
    "    for i in range(len(pred)):\n",
    "        if pred[i] == y_test[i]:\n",
    "            count +=1\n",
    "            \n",
    "    return (count/len(pred))*100"
   ]
  },
  {
   "cell_type": "code",
   "execution_count": 12,
   "id": "0910cd4d",
   "metadata": {},
   "outputs": [
    {
     "name": "stdout",
     "output_type": "stream",
     "text": [
      "Accuracy =  86.66666666666667  %\n"
     ]
    }
   ],
   "source": [
    "y_test = test_arr[:,19]\n",
    "acc_cnn = accuracy(y_pred,y_test)\n",
    "print(\"Accuracy = \",acc_cnn, \" %\")"
   ]
  },
  {
   "cell_type": "markdown",
   "id": "49fcbb47",
   "metadata": {},
   "source": [
    "## Standard KNN"
   ]
  },
  {
   "cell_type": "markdown",
   "id": "879f57c4",
   "metadata": {},
   "source": [
    "Now we perform a standard K-NN classification with k = 5, and compare our results"
   ]
  },
  {
   "cell_type": "code",
   "execution_count": 13,
   "id": "61acc79c",
   "metadata": {},
   "outputs": [
    {
     "name": "stdout",
     "output_type": "stream",
     "text": [
      "[1. 1. 0. 0. 0.]\n",
      "[1. 1. 1. 1. 0.]\n",
      "[1. 1. 1. 1. 0.]\n",
      "[1. 1. 0. 0. 0.]\n",
      "[0. 0. 0. 0. 0.]\n",
      "[1. 1. 0. 1. 0.]\n",
      "[1. 0. 1. 1. 1.]\n",
      "[0. 0. 0. 0. 1.]\n",
      "[0. 0. 0. 0. 1.]\n",
      "[0. 0. 0. 0. 0.]\n",
      "[0. 0. 0. 0. 0.]\n",
      "[0. 0. 0. 0. 0.]\n",
      "[1. 1. 0. 0. 0.]\n",
      "[0. 0. 0. 0. 0.]\n",
      "[0. 0. 0. 0. 0.]\n",
      "[0, 1, 1, 0, 0, 1, 1, 0, 0, 0, 0, 0, 0, 0, 0]\n"
     ]
    }
   ],
   "source": [
    "#Standard 5-NN classification\n",
    "y_pred_knn = []#array of final predicted labels\n",
    "store = np.empty((0,3), float)\n",
    "x_test = test_arr[:,:19] \n",
    "\n",
    "for i in test_arr:\n",
    "    store = np.empty((0,20), float)\n",
    "    distances = []\n",
    "    for j in train_arr:\n",
    "        dis = minkowski(i,j) #calculates the distance\n",
    "        distances.append(dis)\n",
    "    dist_arr = np.array(distances)\n",
    "    dist_arr_1 = np.array(distances)\n",
    "    dist_arr.sort()\n",
    "    #print(dist_arr)\n",
    "    #print(dist_arr_1)\n",
    "    #(index,) = np.where(dist_arr_1 == dist_arr[count])\n",
    "    #print(index[0])\n",
    "    count = 0\n",
    "    while (count<5):\n",
    "        \n",
    "        (index,) = np.where(dist_arr_1 == dist_arr[count])\n",
    "        store = np.vstack((store,train_arr[index[0]])) #stores the features and labels of 5 nearest neighbours\n",
    "        count = count + 1\n",
    "    print(store[:,19])\n",
    "    label = classify(store[:,19])\n",
    "    #print(label)\n",
    "    y_pred_knn.append(label) #predicted output label of the test sample\n",
    "    \n",
    "print(y_pred_knn)"
   ]
  },
  {
   "cell_type": "markdown",
   "id": "46754169",
   "metadata": {},
   "source": [
    "#### Calculating the accuracy of our prediction for the standard KNN"
   ]
  },
  {
   "cell_type": "code",
   "execution_count": 14,
   "id": "a7e4af8b",
   "metadata": {},
   "outputs": [
    {
     "name": "stdout",
     "output_type": "stream",
     "text": [
      "Accuracy =  73.33333333333333  %\n"
     ]
    }
   ],
   "source": [
    "y_test = test_arr[:,19] \n",
    "acc_knn = accuracy(y_pred_knn,y_test)\n",
    "print(\"Accuracy = \",acc_knn, \" %\")"
   ]
  },
  {
   "cell_type": "markdown",
   "id": "d8ebcbe8",
   "metadata": {},
   "source": [
    "### Writing the final results in a file"
   ]
  },
  {
   "cell_type": "code",
   "execution_count": 15,
   "id": "0d526d87",
   "metadata": {},
   "outputs": [],
   "source": [
    "file = open('results.txt','w')\n",
    "file.write(\"\\t\\t\\tFINAL RESULTS\\n\\t\\t       MLFA Assignment-1\\n--------------------------------------------------------------\\n--------------------------------------------------------------\\n\")\n",
    "str1 = \"Accuracy of Condensed KNN with k = 5 is \" + str(acc_cnn) + \" % \"\n",
    "file.write(str1)\n",
    "str2 = \"\\nAccuracy of a standard KNN with k = 5 is \" + str(acc_knn) + \" % \"\n",
    "file.write(str2)\n",
    "file.write(\"\\n--------------------------------------------------------------\\n--------------------------------------------------------------\\n\")\n",
    "file.close()"
   ]
  }
 ],
 "metadata": {
  "kernelspec": {
   "display_name": "Python 3 (ipykernel)",
   "language": "python",
   "name": "python3"
  },
  "language_info": {
   "codemirror_mode": {
    "name": "ipython",
    "version": 3
   },
   "file_extension": ".py",
   "mimetype": "text/x-python",
   "name": "python",
   "nbconvert_exporter": "python",
   "pygments_lexer": "ipython3",
   "version": "3.9.2"
  }
 },
 "nbformat": 4,
 "nbformat_minor": 5
}
