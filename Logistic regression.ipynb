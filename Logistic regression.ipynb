{
 "cells": [
  {
   "cell_type": "markdown",
   "id": "9ca4c1fa",
   "metadata": {},
   "source": [
    "# MLFA Assignment 2"
   ]
  },
  {
   "cell_type": "markdown",
   "id": "fd22183b",
   "metadata": {},
   "source": [
    "Done by:\n",
    "- Saumili Jana: 20ME10075\n",
    "- Ushasi Das: 20EC10086\n",
    "- Jaya Kishnani: 20EC30020\n",
    "- Karthikeyan.R: 20EC30024"
   ]
  },
  {
   "cell_type": "code",
   "execution_count": 37,
   "id": "e78c1892",
   "metadata": {},
   "outputs": [],
   "source": [
    "#importing modules\n",
    "import math\n",
    "import pandas as pd\n",
    "import numpy as np"
   ]
  },
  {
   "cell_type": "markdown",
   "id": "9b1938a6",
   "metadata": {},
   "source": [
    "We import the data as panda's dataframes, split them into training and test dataset, and convert them into numpy array. As mentioned in the problem statement, we next split the data into 90% and 10% sets randomly, where 10% set is the test set."
   ]
  },
  {
   "cell_type": "code",
   "execution_count": 38,
   "id": "3a7568a3",
   "metadata": {
    "scrolled": true
   },
   "outputs": [
    {
     "name": "stdout",
     "output_type": "stream",
     "text": [
      "    behavior_sexualRisk  behavior_eating  behavior_personalHygine  \\\n",
      "0                    10               13                       12   \n",
      "1                    10               11                       11   \n",
      "2                    10               15                        3   \n",
      "3                    10               11                       10   \n",
      "4                     8               11                        7   \n",
      "..                  ...              ...                      ...   \n",
      "67                   10               14                       14   \n",
      "68                   10               12                       15   \n",
      "69                   10                8                       11   \n",
      "70                    9               12                       13   \n",
      "71                   10               14                       14   \n",
      "\n",
      "    intention_aggregation  intention_commitment  attitude_consistency  \\\n",
      "0                       4                     7                     9   \n",
      "1                      10                    14                     7   \n",
      "2                       2                    14                     8   \n",
      "3                      10                    15                     7   \n",
      "4                       8                    10                     7   \n",
      "..                    ...                   ...                   ...   \n",
      "67                     10                    15                     6   \n",
      "68                     10                    15                     8   \n",
      "69                      6                    10                     6   \n",
      "70                     10                    13                     6   \n",
      "71                      6                    12                     7   \n",
      "\n",
      "    attitude_spontaneity  norm_significantPerson  norm_fulfillment  \\\n",
      "0                     10                       1                 8   \n",
      "1                      7                       5                 5   \n",
      "2                     10                       1                 4   \n",
      "3                      7                       1                 5   \n",
      "4                      8                       1                 5   \n",
      "..                   ...                     ...               ...   \n",
      "67                     7                       5                15   \n",
      "68                     8                       5                15   \n",
      "69                     4                       3                13   \n",
      "70                     6                       5                14   \n",
      "71                     8                       5                15   \n",
      "\n",
      "    perception_vulnerability  perception_severity  motivation_strength  \\\n",
      "0                          7                    3                   14   \n",
      "1                          4                    2                   15   \n",
      "2                          7                    2                    7   \n",
      "3                          4                    2                   15   \n",
      "4                          3                    2                   15   \n",
      "..                       ...                  ...                  ...   \n",
      "67                        14                   10                   15   \n",
      "68                        14                    8                   12   \n",
      "69                         9                    8                   14   \n",
      "70                        13                   10                   13   \n",
      "71                        12                   10                   10   \n",
      "\n",
      "    motivation_willingness  socialSupport_emotionality  \\\n",
      "0                        8                           5   \n",
      "1                       13                           7   \n",
      "2                        3                           3   \n",
      "3                       13                           7   \n",
      "4                        5                           3   \n",
      "..                     ...                         ...   \n",
      "67                      13                           9   \n",
      "68                      14                          11   \n",
      "69                      12                           9   \n",
      "70                      12                          11   \n",
      "71                      13                          11   \n",
      "\n",
      "    socialSupport_appreciation  socialSupport_instrumental  \\\n",
      "0                            7                          12   \n",
      "1                            6                           5   \n",
      "2                            6                          11   \n",
      "3                            4                           4   \n",
      "4                            6                          12   \n",
      "..                         ...                         ...   \n",
      "67                           8                          12   \n",
      "68                           7                          13   \n",
      "69                           7                          11   \n",
      "70                           8                          12   \n",
      "71                           9                          14   \n",
      "\n",
      "    empowerment_knowledge  empowerment_abilities  empowerment_desires  \\\n",
      "0                      12                     11                    8   \n",
      "1                       5                      4                    4   \n",
      "2                       3                      3                   15   \n",
      "3                       4                      4                    4   \n",
      "4                       5                      4                    7   \n",
      "..                    ...                    ...                  ...   \n",
      "67                     12                     11                    9   \n",
      "68                     15                     11                   14   \n",
      "69                     12                     10                   10   \n",
      "70                     11                     13                   15   \n",
      "71                     13                     15                   15   \n",
      "\n",
      "    ca_cervix  \n",
      "0           1  \n",
      "1           1  \n",
      "2           1  \n",
      "3           1  \n",
      "4           1  \n",
      "..        ...  \n",
      "67          0  \n",
      "68          0  \n",
      "69          0  \n",
      "70          0  \n",
      "71          0  \n",
      "\n",
      "[72 rows x 20 columns]\n"
     ]
    }
   ],
   "source": [
    "#importing the dataset\n",
    "all_data = pd.read_csv('sobar-72.csv')\n",
    "print(all_data)"
   ]
  },
  {
   "cell_type": "code",
   "execution_count": 39,
   "id": "02ca55ca",
   "metadata": {},
   "outputs": [
    {
     "name": "stdout",
     "output_type": "stream",
     "text": [
      "[[10 13 12 ... 11  8  1]\n",
      " [10 11 11 ...  4  4  1]\n",
      " [10 15  3 ...  3 15  1]\n",
      " ...\n",
      " [10  8 11 ... 10 10  0]\n",
      " [ 9 12 13 ... 13 15  0]\n",
      " [10 14 14 ... 15 15  0]]\n",
      "[[10 13 12 ... 12 11  8]\n",
      " [10 11 11 ...  5  4  4]\n",
      " [10 15  3 ...  3  3 15]\n",
      " ...\n",
      " [10  8 11 ... 12 10 10]\n",
      " [ 9 12 13 ... 11 13 15]\n",
      " [10 14 14 ... 13 15 15]]\n",
      "[1 1 1 1 1 1 1 1 1 1 1 1 1 1 1 1 1 1 1 1 1 0 0 0 0 0 0 0 0 0 0 0 0 0 0 0 0\n",
      " 0 0 0 0 0 0 0 0 0 0 0 0 0 0 0 0 0 0 0 0 0 0 0 0 0 0 0 0 0 0 0 0 0 0 0]\n"
     ]
    }
   ],
   "source": [
    "#reorganising the data into features and labels\n",
    "all_arr = all_data.to_numpy() #converting to numpy arrays for ease of handling\n",
    "print(all_arr)\n",
    "X = all_arr[:,:-1]\n",
    "Y = all_arr[:,-1]\n",
    "print(X)\n",
    "print(Y)"
   ]
  },
  {
   "cell_type": "code",
   "execution_count": 40,
   "id": "c47c6974",
   "metadata": {},
   "outputs": [],
   "source": [
    "#splitting data into training and test data\n",
    "from sklearn.model_selection import train_test_split\n",
    "X_train, X_test, y_train, y_test = train_test_split(X, Y, test_size = 0.1) #10% set for testing\n",
    "#print(X_train)\n",
    "#print(y_test)\n",
    "(row,col) =X_train.shape\n",
    "#print(row,col)\n",
    "\n",
    "#converting to float type - required for later stages\n",
    "X_train =  np.asarray(X_train, dtype = np.float64, order ='C')\n",
    "X_test =  np.asarray(X_test, dtype = np.float64, order ='C')\n",
    "y_train =  np.asarray(y_train, dtype = np.float64, order ='C')\n",
    "y_test =  np.asarray(y_test, dtype = np.float64, order ='C')"
   ]
  },
  {
   "cell_type": "markdown",
   "id": "dfc36329",
   "metadata": {},
   "source": [
    "## Logistic regression using stochastic gradient ascent from scratch"
   ]
  },
  {
   "cell_type": "markdown",
   "id": "6573f837",
   "metadata": {},
   "source": [
    "We would be classifying the data using logistic regression and use stochastic gradient ascent to maximise the likelihood function. \n",
    "\n",
    "First we define functions for the logistic/sigmoid functions and to normalise/process the data"
   ]
  },
  {
   "cell_type": "code",
   "execution_count": 41,
   "id": "1643d27f",
   "metadata": {},
   "outputs": [],
   "source": [
    "#Sigmoid/logistic function\n",
    "def sigmoid(z):\n",
    "    p = np.exp(z)/(1+np.exp(z))\n",
    "    return(p)\n",
    "#sigmoid(1)#debugging"
   ]
  },
  {
   "cell_type": "code",
   "execution_count": 42,
   "id": "97c0e7be",
   "metadata": {},
   "outputs": [
    {
     "data": {
      "text/plain": [
       "array([0., 0., 0., 0., 0., 0., 0., 0., 0., 0., 0., 0., 0., 0., 0., 0., 0.,\n",
       "       0., 0., 0.])"
      ]
     },
     "execution_count": 42,
     "metadata": {},
     "output_type": "execute_result"
    }
   ],
   "source": [
    "#model parameters(theta_0,theta_1, theta_2,.......,theta_n) initialised to 0\n",
    "parameters = np.zeros(20)\n",
    "parameters"
   ]
  },
  {
   "cell_type": "code",
   "execution_count": 43,
   "id": "09570d9d",
   "metadata": {},
   "outputs": [],
   "source": [
    "#To normalise the data \n",
    "def normalise(array):\n",
    "    k = 0\n",
    "    while(k<col):\n",
    "        ar = array[:,k]\n",
    "        #print(ar)\n",
    "        #print(np.max(ar))\n",
    "        array[:,k] = ar/np.max(ar)\n",
    "        k = k+1\n",
    "    return(array)\n",
    "\n",
    "X_train = normalise(X_train)\n",
    "X_test= normalise(X_test)\n"
   ]
  },
  {
   "cell_type": "markdown",
   "id": "7298165e",
   "metadata": {},
   "source": [
    "Next we we obtain the expression for $z = \\theta_0 +\\theta_1x_1 + \\theta_2x_2 + .......+\\theta_nx_n $ where $\\theta_0,\\theta_1,....,\\theta_n$ are the model parameters, and $x_1, x_2,..... ,x_n$ are the features for any given sample. Hence the probability of being in class1 is given by $P(y = 1|x) = \\frac{e^{z}}{1+e^{z}}$."
   ]
  },
  {
   "cell_type": "code",
   "execution_count": 44,
   "id": "3ae63662",
   "metadata": {},
   "outputs": [],
   "source": [
    "#Linear regression function\n",
    "def LR(feature,a):  #feature is an array containing all the features for an instance, 'a' is a vector containing model parameters\n",
    "    z = 2\n",
    "    count = 0\n",
    "    while(count<col):\n",
    "        z += a[count]*(feature[count])\n",
    "        #print(z)\n",
    "        count += 1\n",
    "    p = sigmoid(z)\n",
    "    #print(p)\n",
    "    return(p)\n",
    "#t = LR(X[18], parameters )   \n",
    "#t"
   ]
  },
  {
   "cell_type": "code",
   "execution_count": 45,
   "id": "86c6cd45",
   "metadata": {},
   "outputs": [
    {
     "data": {
      "text/plain": [
       "array([-0.65157309, -0.51370713, -0.19354134, -0.19566284, -0.42783572,\n",
       "       -0.36877652, -0.51495517, -0.06118446, -0.06019931, -0.08908024,\n",
       "        0.03373948, -0.26277548,  0.03712069, -0.04313761, -0.08574156,\n",
       "       -0.17263902,  0.10580238,  0.02195223,  0.02947995,  0.        ])"
      ]
     },
     "execution_count": 45,
     "metadata": {},
     "output_type": "execute_result"
    }
   ],
   "source": [
    "#Stochastic gradient ascent to maximise the likelihood function\n",
    "itr = 1000 #no of iterations\n",
    "r = 0.001 #learning rate\n",
    "\n",
    "\n",
    "X_train_copy = X_train\n",
    "while(itr>0):\n",
    "    np.random.shuffle(X_train_copy) #shuffle the set\n",
    "    j = col\n",
    "    while(j>0):\n",
    "        i = 0\n",
    "        for x_i in X_train_copy:\n",
    "            parameters[col-j] = parameters[col-j]+ r*((y_train[i]-LR(x_i,parameters))*x_i[col-j])\n",
    "            #print(i,col-j)\n",
    "            i = i+1\n",
    "        j = j-1\n",
    "    #print(itr, parameters)\n",
    "    itr = itr-1\n",
    "parameters"
   ]
  },
  {
   "cell_type": "code",
   "execution_count": 46,
   "id": "37656b03",
   "metadata": {},
   "outputs": [],
   "source": [
    "#classify function - returns 0 or 1 according to its predicted class\n",
    "def classify(sample, a):\n",
    "    p = LR(sample,a)\n",
    "    if p>0.5:\n",
    "        return(1)\n",
    "    else:\n",
    "        return(0)\n"
   ]
  },
  {
   "cell_type": "code",
   "execution_count": 47,
   "id": "90c53058",
   "metadata": {},
   "outputs": [
    {
     "name": "stdout",
     "output_type": "stream",
     "text": [
      "[0, 0, 0, 0, 0, 0, 0, 0]\n"
     ]
    }
   ],
   "source": [
    "#predicting labels\n",
    "y_pred = [] #predicted labels of the test dataset\n",
    "for b in X_test:\n",
    "    label = classify(b,parameters)\n",
    "    y_pred.append(label)\n",
    "print(y_pred)\n",
    "#y_test"
   ]
  },
  {
   "cell_type": "markdown",
   "id": "53423d55",
   "metadata": {},
   "source": [
    "Next we find the accuracy of our prediction"
   ]
  },
  {
   "cell_type": "code",
   "execution_count": 48,
   "id": "076d5462",
   "metadata": {},
   "outputs": [],
   "source": [
    "#Accuracy function \n",
    "def accuracy(pred , y_test):\n",
    "    count = 0\n",
    "    for i in range(len(pred)):\n",
    "        if pred[i] == y_test[i]:\n",
    "            count +=1\n",
    "            \n",
    "    return (count/len(pred))*100\n"
   ]
  },
  {
   "cell_type": "code",
   "execution_count": 49,
   "id": "70990239",
   "metadata": {},
   "outputs": [
    {
     "name": "stdout",
     "output_type": "stream",
     "text": [
      "Accuracy =  75.0  %\n"
     ]
    }
   ],
   "source": [
    "#finding the accuracy\n",
    "acc = accuracy(y_pred,y_test)\n",
    "print(\"Accuracy = \",acc, \" %\")"
   ]
  },
  {
   "cell_type": "markdown",
   "id": "da518876",
   "metadata": {},
   "source": [
    "## Using sklearn libraries"
   ]
  },
  {
   "cell_type": "code",
   "execution_count": 50,
   "id": "7642575a",
   "metadata": {},
   "outputs": [],
   "source": [
    "#To filter out un-necessary warnings\n",
    "import warnings\n",
    "warnings.filterwarnings( \"ignore\" )"
   ]
  },
  {
   "cell_type": "code",
   "execution_count": 51,
   "id": "31a95431",
   "metadata": {},
   "outputs": [
    {
     "data": {
      "text/plain": [
       "LogisticRegression()"
      ]
     },
     "execution_count": 51,
     "metadata": {},
     "output_type": "execute_result"
    }
   ],
   "source": [
    "#Model Training on train set\n",
    "from sklearn.linear_model import LogisticRegression\n",
    "model = LogisticRegression()\n",
    "model.fit(X_train, y_train)"
   ]
  },
  {
   "cell_type": "code",
   "execution_count": 52,
   "id": "504dbbe2",
   "metadata": {},
   "outputs": [
    {
     "data": {
      "text/plain": [
       "array([0., 0., 0., 0., 0., 0., 0., 0.])"
      ]
     },
     "execution_count": 52,
     "metadata": {},
     "output_type": "execute_result"
    }
   ],
   "source": [
    "#Prediction on test set\n",
    "Y_predict = model.predict(X_test)\n",
    "Y_predict"
   ]
  },
  {
   "cell_type": "code",
   "execution_count": 53,
   "id": "5598a41c",
   "metadata": {},
   "outputs": [
    {
     "name": "stdout",
     "output_type": "stream",
     "text": [
      "Accuracy using sklearn=  75.0  %\n"
     ]
    }
   ],
   "source": [
    "#Accuracy\n",
    "score = model.score(X_test, y_test)\n",
    "print(\"Accuracy using sklearn= \",score*100, \" %\")"
   ]
  },
  {
   "cell_type": "markdown",
   "id": "b3f3b761",
   "metadata": {},
   "source": [
    "### Writing the final results in a file"
   ]
  },
  {
   "cell_type": "code",
   "execution_count": 54,
   "id": "87b7acef",
   "metadata": {},
   "outputs": [],
   "source": [
    "file = open('results.txt','w')\n",
    "file.write(\"\\t\\t\\tFINAL RESULTS\\n\\t\\t       MLFA Assignment-2\\n--------------------------------------------------------------\\n--------------------------------------------------------------\\n\")\n",
    "str1 = \"Accuracy of the prediction using code written from scratch is \" + str(acc) + \" % \"\n",
    "file.write(str1)\n",
    "str2 = \"\\nAccuracy of the prediction using sklearn model is \" + str(score*100) + \" % \"\n",
    "file.write(str2)\n",
    "file.write(\"\\n--------------------------------------------------------------\\n--------------------------------------------------------------\\n\")\n",
    "file.close()"
   ]
  }
 ],
 "metadata": {
  "kernelspec": {
   "display_name": "Python 3 (ipykernel)",
   "language": "python",
   "name": "python3"
  },
  "language_info": {
   "codemirror_mode": {
    "name": "ipython",
    "version": 3
   },
   "file_extension": ".py",
   "mimetype": "text/x-python",
   "name": "python",
   "nbconvert_exporter": "python",
   "pygments_lexer": "ipython3",
   "version": "3.9.2"
  }
 },
 "nbformat": 4,
 "nbformat_minor": 5
}
