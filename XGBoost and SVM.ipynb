{
 "cells": [
  {
   "cell_type": "markdown",
   "id": "b23a0bc6",
   "metadata": {},
   "source": [
    "# Assignment 5\n",
    "Done by:\n",
    "- Saumili Jana: 20ME10075\n",
    "- Ushasi Das: 20EC10086\n",
    "- Jaya Kishnani: 20EC30020\n",
    "- Karthikeyan.R: 20EC30024"
   ]
  },
  {
   "cell_type": "code",
   "execution_count": 68,
   "id": "d4cea94c",
   "metadata": {},
   "outputs": [],
   "source": [
    "#importing modules\n",
    "import math\n",
    "import pandas as pd\n",
    "import numpy as np\n",
    "import matplotlib.pyplot as plt\n",
    "from sklearn.model_selection import train_test_split"
   ]
  },
  {
   "cell_type": "code",
   "execution_count": 69,
   "id": "4d017f9d",
   "metadata": {},
   "outputs": [],
   "source": [
    "#opening the file and extracting the data\n",
    "file = open(\"S_n_I_A_N_P_An_Io_noaa2.txt\",\"r\")\n",
    "lines = file.readlines()\n",
    "dataset = []\n",
    "for x in lines:\n",
    "    dataset.append(x.split()[1:8])\n",
    "file.close()\n",
    "\n",
    "#print(dataset)\n",
    "\n"
   ]
  },
  {
   "cell_type": "code",
   "execution_count": 70,
   "id": "ffef5e73",
   "metadata": {},
   "outputs": [
    {
     "name": "stdout",
     "output_type": "stream",
     "text": [
      "['0.167651', '0.48401', '0.000837464', '1.0841', '0.560382', '-0.295856']\n",
      "10.2438\n"
     ]
    }
   ],
   "source": [
    "#separating into feature vectors and labels\n",
    "x = []\n",
    "y = []\n",
    "for i in dataset:\n",
    "    x.append([i[0],i[2],i[3],i[4],i[5],i[6]])\n",
    "    y.append(i[1])\n",
    "print(x[0])\n",
    "print(y[0])\n",
    "\n"
   ]
  },
  {
   "cell_type": "code",
   "execution_count": 71,
   "id": "55039eb2",
   "metadata": {},
   "outputs": [],
   "source": [
    "#Separating all the different months\n",
    "x_may = []\n",
    "x_june = []\n",
    "x_july = []\n",
    "x_aug = []\n",
    "x_sep = []\n",
    "x_oct = []\n",
    "\n",
    "y_may = []\n",
    "y_june = []\n",
    "y_july = []\n",
    "y_aug = []\n",
    "y_sep = []\n",
    "y_oct = []\n",
    "\n",
    "for i in range(0,len(x),6):\n",
    "    x_may.append(x[i])\n",
    "    x_june.append(x[i+1])\n",
    "    x_july.append(x[i+2])\n",
    "    x_aug.append(x[i+3])\n",
    "    x_sep.append(x[i+4])\n",
    "    x_oct.append(x[i+5])\n",
    "\n",
    "for j in range (0,len(y),6):\n",
    "    y_may.append(y[j])\n",
    "    y_june.append(y[j+1])\n",
    "    y_july.append(y[j+2])\n",
    "    y_aug.append(y[j+3])\n",
    "    y_sep.append(y[j+4])\n",
    "    y_oct.append(y[j+5])\n"
   ]
  },
  {
   "cell_type": "code",
   "execution_count": 72,
   "id": "5cede2e0",
   "metadata": {},
   "outputs": [],
   "source": [
    "#Converting to numpy arrays\n",
    "X_may = np.float32(np.asarray(x_may))\n",
    "Y_may = np.float32(np.asarray(y_may))\n",
    "\n",
    "X_june = np.float32(np.asarray(x_june))\n",
    "Y_june = np.float32(np.asarray(y_june))\n",
    "\n",
    "X_july = np.float32(np.asarray(x_july))\n",
    "Y_july = np.float32(np.asarray(y_july))\n",
    "\n",
    "X_aug = np.float32(np.asarray(x_aug))\n",
    "Y_aug = np.float32(np.asarray(y_aug))\n",
    "\n",
    "X_sep = np.float32(np.asarray(x_sep))\n",
    "Y_sep = np.float32(np.asarray(y_sep))\n",
    "\n",
    "X_oct = np.float32(np.asarray(x_oct))\n",
    "Y_oct = np.float32(np.asarray(y_oct))"
   ]
  },
  {
   "cell_type": "markdown",
   "id": "dd125b27",
   "metadata": {},
   "source": [
    "### Creating the combined dataset\n"
   ]
  },
  {
   "cell_type": "code",
   "execution_count": 73,
   "id": "7058d8c9",
   "metadata": {},
   "outputs": [],
   "source": [
    "#for lag 0:\n",
    "X_0 = np.concatenate((X_may,X_june, X_july, X_aug, X_sep, X_oct),axis=0)\n",
    "Y_0 = np.concatenate((Y_may,Y_june, Y_july, Y_aug, Y_sep, Y_oct),axis=0)\n",
    "\n",
    "#print(X_0)\n",
    "#print(Y_0)\n",
    "\n",
    "#splitting data into training and test data\n",
    "X_train_0, X_test_0, y_train_0, y_test_0 = train_test_split(X_0, Y_0, test_size = 0.1) "
   ]
  },
  {
   "cell_type": "code",
   "execution_count": 74,
   "id": "0ee7596e",
   "metadata": {},
   "outputs": [],
   "source": [
    "#for lag 1:\n",
    "X_1 = np.concatenate((X_may,X_june, X_july, X_aug, X_sep),axis=0)\n",
    "Y_1 = np.concatenate((Y_june, Y_july, Y_aug, Y_sep, Y_oct),axis=0)\n",
    "#splitting data into training and test data\n",
    "X_train_1, X_test_1, y_train_1, y_test_1 = train_test_split(X_1, Y_1, test_size = 0.1) "
   ]
  },
  {
   "cell_type": "code",
   "execution_count": 75,
   "id": "43c2dfdc",
   "metadata": {},
   "outputs": [],
   "source": [
    "#for lag 2:\n",
    "X_2 = np.concatenate((X_may,X_june, X_july, X_aug),axis=0)\n",
    "Y_2 = np.concatenate((Y_july, Y_aug, Y_sep, Y_oct),axis=0)\n",
    "#splitting data into training and test data\n",
    "X_train_2, X_test_2, y_train_2, y_test_2 = train_test_split(X_2, Y_2, test_size = 0.1) "
   ]
  },
  {
   "cell_type": "markdown",
   "id": "b0b9a7b7",
   "metadata": {},
   "source": [
    "## Using Xgboost regresssor"
   ]
  },
  {
   "cell_type": "code",
   "execution_count": 76,
   "id": "a941ac14",
   "metadata": {},
   "outputs": [],
   "source": [
    "#importing modules\n",
    "import warnings\n",
    "warnings.filterwarnings(\"ignore\", category=UserWarning)\n",
    "import numpy as np\n",
    "from xgboost import XGBClassifier, XGBRegressor\n",
    "from sklearn.metrics import accuracy_score\n",
    "from sklearn.metrics import mean_squared_error\n",
    "from sklearn.model_selection import GridSearchCV\n",
    "from sklearn.model_selection import cross_val_score\n",
    "from sklearn.model_selection import RepeatedStratifiedKFold\n",
    "from sklearn.model_selection import RepeatedKFold\n"
   ]
  },
  {
   "cell_type": "code",
   "execution_count": 77,
   "id": "5b7e884b",
   "metadata": {},
   "outputs": [],
   "source": [
    "rgr = XGBRegressor(n_estimators=8, max_depth=6, eta=0.1, subsample=1, colsample_bytree=1)"
   ]
  },
  {
   "cell_type": "code",
   "execution_count": 78,
   "id": "f7c320fe",
   "metadata": {},
   "outputs": [
    {
     "name": "stdout",
     "output_type": "stream",
     "text": [
      "RMSE: 30.57\n",
      "RMSE: 35.20\n",
      "RMSE: 39.13\n"
     ]
    }
   ],
   "source": [
    "#lag 0\n",
    "rgr = rgr.fit(X_train_0, y_train_0)\n",
    "y_pred_0 = rgr.predict(X_test_0)\n",
    "rmse_0=np.sqrt(mean_squared_error(y_pred_0,y_test_0))#root mean square error\n",
    "#lag 1\n",
    "rgr = rgr.fit(X_train_1, y_train_1)\n",
    "y_pred_1 = rgr.predict(X_test_1)\n",
    "rmse_1=np.sqrt(mean_squared_error(y_pred_1,y_test_1))#root mean square error\n",
    "#lag 2\n",
    "rgr = rgr.fit(X_train_2, y_train_2)\n",
    "y_pred_2 = rgr.predict(X_test_2)\n",
    "rmse_2=np.sqrt(mean_squared_error(y_pred_2,y_test_2))#root mean square error\n",
    "print(\"RMSE: %0.2f\"%((rmse_0)))\n",
    "print(\"RMSE: %0.2f\"%((rmse_1)))\n",
    "print(\"RMSE: %0.2f\"%((rmse_2)))"
   ]
  },
  {
   "cell_type": "code",
   "execution_count": 84,
   "id": "eaf52627",
   "metadata": {},
   "outputs": [
    {
     "name": "stdout",
     "output_type": "stream",
     "text": [
      "Lag 0: Root mean square error = 30.865196173206563 \n",
      "=======================================================================\n",
      "    true ISMR values  predicted ISMR values\n",
      "0          37.203499              10.251194\n",
      "1          -5.607690              -5.258919\n",
      "2          42.673698              16.430285\n",
      "3          -2.419840               8.239488\n",
      "4         -56.140301             -19.453637\n",
      "..               ...                    ...\n",
      "82         12.814500              -2.975446\n",
      "83        -13.100600              -1.640488\n",
      "84         31.554399               2.990219\n",
      "85        -20.660601             -11.326198\n",
      "86         18.277399              -7.799013\n",
      "\n",
      "[87 rows x 2 columns]\n",
      "Lag 1: Root mean square error = 32.462529261479006 \n",
      "=======================================================================\n",
      "    true ISMR values  predicted ISMR values\n",
      "0         -48.984200             -12.012507\n",
      "1         -40.429798             -23.743846\n",
      "2          52.280998               0.736543\n",
      "3           2.221670             -11.035875\n",
      "4         -31.613400              -8.299701\n",
      "..               ...                    ...\n",
      "68         36.594799               3.654432\n",
      "69        -15.445000              -4.578400\n",
      "70         26.110800              11.223321\n",
      "71         62.219002              -4.772487\n",
      "72        -23.795300               3.377698\n",
      "\n",
      "[73 rows x 2 columns]\n",
      "Lag 2: Root mean square error = 39.55704550608773 \n",
      "=======================================================================\n",
      "    true ISMR values  predicted ISMR values\n",
      "0         -20.371901              -2.714578\n",
      "1           1.147400              -3.191543\n",
      "2          62.606998               5.934677\n",
      "3          69.343903               2.060718\n",
      "4         -88.286903              -8.884964\n",
      "5          -0.360786              12.534830\n",
      "6         -16.699800              -9.408441\n",
      "7          24.454599              -2.615903\n",
      "8          62.651501               3.626864\n",
      "9          33.750900               1.015709\n",
      "10        -23.479500               0.332703\n",
      "11        -14.853200              -2.013991\n",
      "12        -48.857101               2.069805\n",
      "13         22.052700               4.025219\n",
      "14         62.219002              -6.085583\n",
      "15        -53.117500              -4.610978\n",
      "16        -52.446201              -1.721592\n",
      "17         40.077202              -1.396759\n",
      "18        -12.023700               2.353608\n",
      "19        -23.649700               4.639908\n",
      "20        -41.297600             -10.455605\n",
      "21         -7.568980               1.641184\n",
      "22        -65.146500              -6.528494\n",
      "23        -56.446701              -3.276269\n",
      "24         65.388298              -1.522985\n",
      "25         -5.531550             -10.025402\n",
      "26         19.474899              -7.315300\n",
      "27        -30.639700               1.337178\n",
      "28         -4.057860               5.998110\n",
      "29        -21.934299               5.693641\n",
      "30          0.866707              -0.679130\n",
      "31         -0.562533               0.267517\n",
      "32         28.429899               5.142632\n",
      "33        -32.571098              -8.286558\n",
      "34         -5.404050              -4.113690\n",
      "35        -45.915798               6.435201\n",
      "36         19.338600              -2.393143\n",
      "37        -86.031601              -6.268565\n",
      "38         53.723400              -3.092136\n",
      "39          9.209610              -7.641831\n",
      "40        -10.327200              -5.190502\n",
      "41         29.077801               9.925959\n",
      "42          6.376060               2.394166\n",
      "43         28.306499               1.672319\n",
      "44         80.725197               0.135657\n",
      "45         -8.975990              -2.156710\n",
      "46         97.207603              -1.200182\n",
      "47        -17.473600               0.067064\n",
      "48          2.199450               7.047450\n",
      "49         38.439201               0.104353\n",
      "50         29.186600              -2.878294\n",
      "51         14.510800               0.823337\n",
      "52         21.119301               6.327918\n",
      "53        -23.378300               0.570842\n",
      "54        -40.018101              -8.993382\n",
      "55         34.414101               4.198904\n",
      "56         41.725800              -2.834735\n",
      "57         41.565498               5.971124\n"
     ]
    }
   ],
   "source": [
    "#printing in a table format\n",
    "print('Lag 0: Root mean square error =', rmse_0,'\\n=======================================================================')\n",
    "cols = ['true ISMR values', 'predicted ISMR values']\n",
    "d = (np.column_stack((y_test_0,y_pred_0)))\n",
    "(r,c) = np.shape(d)\n",
    "index=list(range(0, r))\n",
    "df = pd.DataFrame(d,index,cols)\n",
    "print(df)\n",
    "print('Lag 1: Root mean square error =', rmse_1,'\\n=======================================================================')\n",
    "d = (np.column_stack((y_test_1,y_pred_1)))\n",
    "(r,c) = np.shape(d)\n",
    "index=list(range(0, r))\n",
    "df = pd.DataFrame(d,index,cols)\n",
    "print(df)\n",
    "print('Lag 2: Root mean square error =', rmse_2,'\\n=======================================================================')\n",
    "d = (np.column_stack((y_test_2,y_pred_2)))\n",
    "(r,c) = np.shape(d)\n",
    "index=list(range(0, r))\n",
    "df = pd.DataFrame(d,index,cols)\n",
    "print(df)"
   ]
  },
  {
   "cell_type": "code",
   "execution_count": 85,
   "id": "67bc1ee8",
   "metadata": {},
   "outputs": [
    {
     "data": {
      "image/png": "[encoded data removed]",
      "text/plain": [
       "<Figure size 432x288 with 1 Axes>"
      ]
     },
     "metadata": {
      "needs_background": "light"
     },
     "output_type": "display_data"
    }
   ],
   "source": [
    "#scatterplot\n",
    "plt.xlabel(\"y_test\")\n",
    "plt.ylabel(\"y_pred\")\n",
    "plt.scatter(y_test_0,y_pred_0, c =\"red\", label=\"lag 0\")\n",
    "plt.scatter(y_test_1,y_pred_1, c =\"blue\", label=\"lag 1\")\n",
    "plt.scatter(y_test_2,y_pred_2, c =\"yellow\", label=\"lag 2\")\n",
    "plt.legend(loc=\"upper left\")\n",
    "plt.show()"
   ]
  },
  {
   "cell_type": "markdown",
   "id": "b945d6d0",
   "metadata": {},
   "source": [
    "Statistically lag 2 shows the best results as the points are more closer (i.e less scattered ) on the straight line line y_test = y_predicted."
   ]
  },
  {
   "cell_type": "markdown",
   "id": "45bfd3ba",
   "metadata": {},
   "source": [
    "## SVM"
   ]
  },
  {
   "cell_type": "code",
   "execution_count": 86,
   "id": "0cada474",
   "metadata": {},
   "outputs": [
    {
     "name": "stdout",
     "output_type": "stream",
     "text": [
      "Grid_0_details\n",
      "{'kernel': 'linear'}\n",
      "0.04048870075762445\n",
      "Grid_1_details\n",
      "{'kernel': 'linear'}\n",
      "0.17321122742564243\n",
      "Grid_2_details\n",
      "{'kernel': 'sigmoid'}\n",
      "0.051797171349492244\n"
     ]
    }
   ],
   "source": [
    "from sklearn.svm import SVR\n",
    "from sklearn.model_selection import GridSearchCV\n",
    "\n",
    "#lag0\n",
    "param_grid={'kernel':['rbf','linear','sigmoid','poly']}\n",
    "Grid=GridSearchCV(SVR(),param_grid)                    #Grid search to find the best parameters\n",
    "Grid.fit(X_train_0,y_train_0)\n",
    "y_pred_0 = Grid.predict(X_test_0)\n",
    "rmse_0=np.sqrt(mean_squared_error(y_pred_0,y_test_0))\n",
    "print(\"Grid_0_details\")\n",
    "print(Grid.best_params_)\n",
    "print(Grid.score(X_test_0,y_test_0))\n",
    "\n",
    "#lag1\n",
    "param_grid={'kernel':['rbf','linear','sigmoid','poly']}\n",
    "Grid=GridSearchCV(SVR(),param_grid)                   #Grid search to find the best parameters\n",
    "Grid.fit(X_train_1,y_train_1)\n",
    "y_pred_1 = Grid.predict(X_test_1)\n",
    "rmse_1=np.sqrt(mean_squared_error(y_pred_1,y_test_1))#root mean square error\n",
    "print(\"Grid_1_details\")\n",
    "print(Grid.best_params_)\n",
    "print(Grid.score(X_test_1,y_test_1))\n",
    "\n",
    "#lag2\n",
    "param_grid={'kernel':['rbf','linear','sigmoid','poly']}\n",
    "Grid=GridSearchCV(SVR(),param_grid)                   #Grid search to find the best parameters\n",
    "Grid.fit(X_train_2,y_train_2)\n",
    "y_pred_2 = Grid.predict(X_test_2)\n",
    "rmse_2=np.sqrt(mean_squared_error(y_pred_2,y_test_2))#root mean square error\n",
    "print(\"Grid_2_details\")\n",
    "print(Grid.best_params_)\n",
    "print(Grid.score(X_test_2,y_test_2))"
   ]
  },
  {
   "cell_type": "code",
   "execution_count": 82,
   "id": "64d670ab",
   "metadata": {},
   "outputs": [
    {
     "name": "stdout",
     "output_type": "stream",
     "text": [
      "Lag 0: Root mean square error = 30.865196173206563 \n",
      "=======================================================================\n",
      "    true ISMR values  predicted ISMR values\n",
      "0          37.203499              10.251194\n",
      "1          -5.607690              -5.258919\n",
      "2          42.673698              16.430285\n",
      "3          -2.419840               8.239488\n",
      "4         -56.140301             -19.453637\n",
      "..               ...                    ...\n",
      "82         12.814500              -2.975446\n",
      "83        -13.100600              -1.640488\n",
      "84         31.554399               2.990219\n",
      "85        -20.660601             -11.326198\n",
      "86         18.277399              -7.799013\n",
      "\n",
      "[87 rows x 2 columns]\n",
      "Lag 1: Root mean square error = 32.462529261479006 \n",
      "=======================================================================\n",
      "    true ISMR values  predicted ISMR values\n",
      "0         -48.984200             -12.012507\n",
      "1         -40.429798             -23.743846\n",
      "2          52.280998               0.736543\n",
      "3           2.221670             -11.035875\n",
      "4         -31.613400              -8.299701\n",
      "..               ...                    ...\n",
      "68         36.594799               3.654432\n",
      "69        -15.445000              -4.578400\n",
      "70         26.110800              11.223321\n",
      "71         62.219002              -4.772487\n",
      "72        -23.795300               3.377698\n",
      "\n",
      "[73 rows x 2 columns]\n",
      "Lag 2: Root mean square error = 39.55704550608773 \n",
      "=======================================================================\n",
      "    true ISMR values  predicted ISMR values\n",
      "0         -20.371901              -2.714578\n",
      "1           1.147400              -3.191543\n",
      "2          62.606998               5.934677\n",
      "3          69.343903               2.060718\n",
      "4         -88.286903              -8.884964\n",
      "5          -0.360786              12.534830\n",
      "6         -16.699800              -9.408441\n",
      "7          24.454599              -2.615903\n",
      "8          62.651501               3.626864\n",
      "9          33.750900               1.015709\n",
      "10        -23.479500               0.332703\n",
      "11        -14.853200              -2.013991\n",
      "12        -48.857101               2.069805\n",
      "13         22.052700               4.025219\n",
      "14         62.219002              -6.085583\n",
      "15        -53.117500              -4.610978\n",
      "16        -52.446201              -1.721592\n",
      "17         40.077202              -1.396759\n",
      "18        -12.023700               2.353608\n",
      "19        -23.649700               4.639908\n",
      "20        -41.297600             -10.455605\n",
      "21         -7.568980               1.641184\n",
      "22        -65.146500              -6.528494\n",
      "23        -56.446701              -3.276269\n",
      "24         65.388298              -1.522985\n",
      "25         -5.531550             -10.025402\n",
      "26         19.474899              -7.315300\n",
      "27        -30.639700               1.337178\n",
      "28         -4.057860               5.998110\n",
      "29        -21.934299               5.693641\n",
      "30          0.866707              -0.679130\n",
      "31         -0.562533               0.267517\n",
      "32         28.429899               5.142632\n",
      "33        -32.571098              -8.286558\n",
      "34         -5.404050              -4.113690\n",
      "35        -45.915798               6.435201\n",
      "36         19.338600              -2.393143\n",
      "37        -86.031601              -6.268565\n",
      "38         53.723400              -3.092136\n",
      "39          9.209610              -7.641831\n",
      "40        -10.327200              -5.190502\n",
      "41         29.077801               9.925959\n",
      "42          6.376060               2.394166\n",
      "43         28.306499               1.672319\n",
      "44         80.725197               0.135657\n",
      "45         -8.975990              -2.156710\n",
      "46         97.207603              -1.200182\n",
      "47        -17.473600               0.067064\n",
      "48          2.199450               7.047450\n",
      "49         38.439201               0.104353\n",
      "50         29.186600              -2.878294\n",
      "51         14.510800               0.823337\n",
      "52         21.119301               6.327918\n",
      "53        -23.378300               0.570842\n",
      "54        -40.018101              -8.993382\n",
      "55         34.414101               4.198904\n",
      "56         41.725800              -2.834735\n",
      "57         41.565498               5.971124\n"
     ]
    }
   ],
   "source": [
    "#printing in a table format\n",
    "print('Lag 0: Root mean square error =', rmse_0,'\\n=======================================================================')\n",
    "cols = ['true ISMR values', 'predicted ISMR values']\n",
    "d = (np.column_stack((y_test_0,y_pred_0)))\n",
    "(r,c) = np.shape(d)\n",
    "index=list(range(0, r))\n",
    "df = pd.DataFrame(d,index,cols)\n",
    "print(df)\n",
    "print('Lag 1: Root mean square error =', rmse_1,'\\n=======================================================================')\n",
    "d = (np.column_stack((y_test_1,y_pred_1)))\n",
    "(r,c) = np.shape(d)\n",
    "index=list(range(0, r))\n",
    "df = pd.DataFrame(d,index,cols)\n",
    "print(df)\n",
    "print('Lag 2: Root mean square error =', rmse_2,'\\n=======================================================================')\n",
    "d = (np.column_stack((y_test_2,y_pred_2)))\n",
    "(r,c) = np.shape(d)\n",
    "index=list(range(0, r))\n",
    "df = pd.DataFrame(d,index,cols)\n",
    "print(df)"
   ]
  },
  {
   "cell_type": "code",
   "execution_count": 83,
   "id": "efde34b8",
   "metadata": {},
   "outputs": [
    {
     "data": {
      "image/png": "[encoded data removed]",
      "text/plain": [
       "<Figure size 432x288 with 1 Axes>"
      ]
     },
     "metadata": {
      "needs_background": "light"
     },
     "output_type": "display_data"
    }
   ],
   "source": [
    "#scatterplot\n",
    "plt.xlabel(\"y_test\")\n",
    "plt.ylabel(\"y_pred\")\n",
    "plt.scatter(y_test_0,y_pred_0, c =\"red\", label=\"lag 0\")\n",
    "plt.scatter(y_test_1,y_pred_1, c =\"blue\", label=\"lag 1\")\n",
    "plt.scatter(y_test_2,y_pred_2, c =\"yellow\", label=\"lag 2\")\n",
    "plt.legend(loc=\"upper left\")\n",
    "plt.show()"
   ]
  },
  {
   "cell_type": "markdown",
   "id": "6a92e432",
   "metadata": {},
   "source": [
    "Statistically lag 2 shows the best results as the points are more closer (i.e less scattered ) on the straight line line y_test = y_predicted."
   ]
  }
 ],
 "metadata": {
  "kernelspec": {
   "display_name": "Python 3 (ipykernel)",
   "language": "python",
   "name": "python3"
  },
  "language_info": {
   "codemirror_mode": {
    "name": "ipython",
    "version": 3
   },
   "file_extension": ".py",
   "mimetype": "text/x-python",
   "name": "python",
   "nbconvert_exporter": "python",
   "pygments_lexer": "ipython3",
   "version": "3.9.7"
  }
 },
 "nbformat": 4,
 "nbformat_minor": 5
}
